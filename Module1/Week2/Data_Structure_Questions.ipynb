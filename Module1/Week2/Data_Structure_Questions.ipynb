{
 "cells": [
  {
   "cell_type": "code",
   "execution_count": 1,
   "id": "c0cb6ac3",
   "metadata": {},
   "outputs": [
    {
     "name": "stdout",
     "output_type": "stream",
     "text": [
      "[5, 5, 5, 5, 10, 12, 33, 33]\n"
     ]
    }
   ],
   "source": [
    "# 1\n",
    "def max_kernel(num_list, k):\n",
    "    max_num = []\n",
    "    for i in range(len(num_list)):\n",
    "        if i <= len(num_list) - k:\n",
    "            max_num.append(max(num_list[i:k + i]))\n",
    "    return max_num\n",
    "\n",
    "assert max_kernel([3, 4, 5, 1, -44], 3) == [5, 5, 5]\n",
    "num_list = [3, 4, 5, 1, -44, 5, 10, 12, 33, 1]\n",
    "k = 3\n",
    "print(max_kernel(num_list, k))\n",
    "# a) [5, 5, 5, 5, 10, 12, 33, 33]\n",
    "# b) [2, 5, 3, 4, 1, 10, 3, 3]\n",
    "# c) [0, 9, 5, 1, 0, 12, 3, 33]\n",
    "# d) Raise an Error"
   ]
  },
  {
   "cell_type": "code",
   "execution_count": 2,
   "id": "63141494",
   "metadata": {},
   "outputs": [
    {
     "name": "stdout",
     "output_type": "stream",
     "text": [
      "{'s': 2, 'm': 1, 'i': 1, 'l': 1, 'e': 1}\n"
     ]
    }
   ],
   "source": [
    "# 2\n",
    "def character_count(word):\n",
    "    char_count = {}\n",
    "\n",
    "    for char in word:\n",
    "        if char in char_count:\n",
    "            char_count[char] += 1\n",
    "        else:\n",
    "            char_count[char] = 1\n",
    "\n",
    "    return char_count\n",
    "\n",
    "assert character_count(\"Baby\") == {'B': 1, 'a': 1, 'b': 1, 'y': 1}\n",
    "print(character_count('smiles'))\n",
    "# a) 's': 2, 'm': 1, 'i': 1, 'l': 1, 'e': 1\n",
    "# b) 's': 0, 'm': 1, 'i': 1, 'l': 1, 'e': 8\n",
    "# c) 's': 4, 'm': 1, 'i': 2, 'l': 1, 'e': 1\n",
    "# d) Raise a Error"
   ]
  },
  {
   "cell_type": "code",
   "execution_count": 3,
   "id": "a7808210",
   "metadata": {},
   "outputs": [
    {
     "name": "stdout",
     "output_type": "stream",
     "text": [
      "6\n"
     ]
    },
    {
     "name": "stderr",
     "output_type": "stream",
     "text": [
      "Downloading...\n",
      "From: https://drive.google.com/uc?id=1IBScGdW2xlNsc9v5zSAya548kNgiOrko\n",
      "To: d:\\AIO2024\\AIOExercises\\Module 1\\Week2\\Multiple Choice\\P1_data.txt\n",
      "\n",
      "  0%|          | 0.00/747 [00:00<?, ?B/s]\n",
      "100%|██████████| 747/747 [00:00<?, ?B/s] \n"
     ]
    }
   ],
   "source": [
    "# 3\n",
    "!gdown https://drive.google.com/uc?id=1IBScGdW2xlNsc9v5zSAya548kNgiOrko\n",
    "\n",
    "def count_word(file_path):\n",
    "    word_count = {}\n",
    "    for char in open(file_path, 'r').read().lower().split():\n",
    "        if char in word_count:\n",
    "            word_count[char] += 1\n",
    "        else:\n",
    "            word_count[char] = 1\n",
    "    return word_count\n",
    "\n",
    "file_path = 'P1_data.txt'\n",
    "result = count_word(file_path)\n",
    "assert result['who'] == 3\n",
    "print(result['man'])\n",
    "# a) 4\n",
    "# b) 5\n",
    "# c) 6\n",
    "# d) 9"
   ]
  },
  {
   "cell_type": "code",
   "execution_count": 17,
   "id": "090a68a1",
   "metadata": {},
   "outputs": [
    {
     "name": "stdout",
     "output_type": "stream",
     "text": [
      "3\n"
     ]
    }
   ],
   "source": [
    "# 4\n",
    "def levenshtein_distance(token1, token2):\n",
    "    m, n = len(token1), len(token2)\n",
    "    dp = [[0] * (n + 1) for _ in range(m + 1)]\n",
    "    \n",
    "    for i in range(m + 1):\n",
    "        for j in range(n + 1):\n",
    "            if i == 0:\n",
    "                dp[i][j] = j\n",
    "            elif j == 0:\n",
    "                dp[i][j] = i\n",
    "            elif token1[i - 1] == token2[j - 1]:\n",
    "                dp[i][j] = dp[i - 1][j - 1]\n",
    "            else:\n",
    "                dp[i][j] = 1 + min(dp[i - 1][j], dp[i][j - 1], dp[i - 1][j - 1])\n",
    "    return dp[m][n]\n",
    "\n",
    "assert levenshtein_distance(\"hi\", \"hello\") == 4.0\n",
    "print(levenshtein_distance(\"hola\", \"hello\"))\n",
    "\n",
    "# a) 1.0\n",
    "# b) 2.0\n",
    "# c) 3.0\n",
    "# d) 4.0"
   ]
  },
  {
   "cell_type": "code",
   "execution_count": 5,
   "id": "363318a4",
   "metadata": {},
   "outputs": [
    {
     "name": "stdout",
     "output_type": "stream",
     "text": [
      "True\n"
     ]
    }
   ],
   "source": [
    "# 5\n",
    "def check_the_number(N):\n",
    "    list_of_numbers = []\n",
    "    for i in range(1, 5):\n",
    "        list_of_numbers.append(i)\n",
    "    if N in list_of_numbers:\n",
    "        results = \"True\"\n",
    "    if N not in list_of_numbers:\n",
    "        results = \"False\"\n",
    "    return results\n",
    "\n",
    "N = 7\n",
    "assert check_the_number(N) == \"False\"\n",
    "\n",
    "N = 2\n",
    "results = check_the_number(N)\n",
    "print(results)\n",
    "# a) True\n",
    "# b) False\n",
    "# c) None\n",
    "# d) Raise an Error"
   ]
  },
  {
   "cell_type": "code",
   "execution_count": 6,
   "id": "56119493",
   "metadata": {},
   "outputs": [
    {
     "name": "stdout",
     "output_type": "stream",
     "text": [
      "[2, 2, 2, 1, 1]\n"
     ]
    }
   ],
   "source": [
    "# 6\n",
    "def my_function(data, maximum, minimum):\n",
    "    result = []\n",
    "    for i in data:\n",
    "        if i < minimum:\n",
    "            result.append(minimum)\n",
    "        elif i > maximum:\n",
    "            result.append(maximum)\n",
    "        else:\n",
    "            result.append(i)\n",
    "    return result\n",
    "\n",
    "my_list = [5, 2, 5, 0, 1]\n",
    "maximum = 1\n",
    "minimum = 0\n",
    "assert my_function(maximum=maximum, minimum=minimum, data=my_list) == [1, 1, 1, 0, 1]\n",
    "\n",
    "my_list = [10, 2, 5, 0, 1]\n",
    "maximum = 2\n",
    "minimum = 1\n",
    "print(my_function(maximum=maximum, minimum=minimum, data=my_list))\n",
    "# a) [10, 2, 5, 1, 1]\n",
    "# b) [0, 2, 2, 0, 0]\n",
    "# c) [2, 2, 2, 1, 1]\n",
    "# d) Raise an Error"
   ]
  },
  {
   "cell_type": "code",
   "execution_count": 7,
   "id": "afa71898",
   "metadata": {},
   "outputs": [
    {
     "name": "stdout",
     "output_type": "stream",
     "text": [
      "[1, 2, 3, 4, 0, 0]\n"
     ]
    }
   ],
   "source": [
    "# 7\n",
    "def my_function(x, y):\n",
    "    x.extend(y)\n",
    "    return x\n",
    "\n",
    "list_num1 = ['a', 2, 5]\n",
    "list_num2 = [1, 1]\n",
    "list_num3 = [0, 0]\n",
    "\n",
    "assert my_function(list_num1, my_function(list_num2, list_num3)) == ['a', 2, 5, 1, 1, 0, 0]\n",
    "\n",
    "list_num1 = [1, 2]\n",
    "list_num2 = [3, 4]\n",
    "list_num3 = [0, 0]\n",
    "print(my_function(list_num1, my_function(list_num2, list_num3)))\n",
    "# a) [1, 2, 3, 4, 0, 0]\n",
    "# b) [1, 2, [3, 4, 0, 0]]\n",
    "# c) [[1, 2, 3, 4, 0, 0]]\n",
    "# d) Raise an Error"
   ]
  },
  {
   "cell_type": "code",
   "execution_count": 8,
   "id": "a514ccc4",
   "metadata": {},
   "outputs": [
    {
     "name": "stdout",
     "output_type": "stream",
     "text": [
      "-1\n"
     ]
    }
   ],
   "source": [
    "# 8\n",
    "def my_function(n):\n",
    "    return min(n)\n",
    "\n",
    "my_list = [1, 22, 93, -100]\n",
    "assert my_function(my_list) == -100\n",
    "\n",
    "my_list = [1, 2, 3, -1]\n",
    "print(my_function(my_list))\n",
    "# a) -1\n",
    "# b) Raise an Error\n",
    "# c) None\n",
    "# d) 3"
   ]
  },
  {
   "cell_type": "code",
   "execution_count": 9,
   "id": "cfaf77bb",
   "metadata": {},
   "outputs": [
    {
     "name": "stdout",
     "output_type": "stream",
     "text": [
      "9\n"
     ]
    }
   ],
   "source": [
    "# 9\n",
    "def my_function(n):\n",
    "    return max(n)\n",
    "\n",
    "my_list = [1001, 9, 100, 0]\n",
    "assert my_function(my_list) == 1001\n",
    "\n",
    "my_list = [1, 9, 9, 0]\n",
    "print(my_function(my_list))\n",
    "# a) 9\n",
    "# b) Raise an Error\n",
    "# c) None\n",
    "# d) 0\n"
   ]
  },
  {
   "cell_type": "code",
   "execution_count": 10,
   "id": "ee273faf",
   "metadata": {},
   "outputs": [
    {
     "name": "stdout",
     "output_type": "stream",
     "text": [
      "True\n"
     ]
    }
   ],
   "source": [
    "# 10\n",
    "def my_function(integers, number=1):\n",
    "    return any(x == number for x in integers)\n",
    "\n",
    "my_list = [1, 3, 9, 4]\n",
    "assert my_function(my_list, -1) == False\n",
    "\n",
    "my_list = [1, 2, 3, 4]\n",
    "print(my_function(my_list, 2))\n",
    "# a) 1\n",
    "# b) 4\n",
    "# c) True\n",
    "# d) False\n"
   ]
  },
  {
   "cell_type": "code",
   "execution_count": 11,
   "id": "bb2a9fdc",
   "metadata": {},
   "outputs": [
    {
     "name": "stdout",
     "output_type": "stream",
     "text": [
      "1.0\n"
     ]
    }
   ],
   "source": [
    "# 11\n",
    "def my_function(list_nums=[0, 1, 2]):\n",
    "    var = 0\n",
    "    for i in list_nums:\n",
    "        var += i\n",
    "    return var / len(list_nums)\n",
    "\n",
    "assert my_function([4, 6, 8]) == 6\n",
    "print(my_function())\n",
    "# a) 1.0\n",
    "# b) 2.0\n",
    "# c) Raise an Error\n",
    "# d) A and C\n"
   ]
  },
  {
   "cell_type": "code",
   "execution_count": 12,
   "id": "89f41162",
   "metadata": {},
   "outputs": [
    {
     "name": "stdout",
     "output_type": "stream",
     "text": [
      "[3, 6]\n"
     ]
    }
   ],
   "source": [
    "# 12\n",
    "def my_function(data):\n",
    "    var = []\n",
    "    for i in data:\n",
    "        # Your code here\n",
    "        if i % 3 == 0:\n",
    "            var.append(i)\n",
    "    return var\n",
    "\n",
    "assert my_function([3, 9, 4, 5]) == [3, 9]\n",
    "print(my_function([1, 2, 3, 5, 6]))\n",
    "# a) [3, 6]\n",
    "# b) [1, 2, 3, 5, 6]\n",
    "# c) a and d\n",
    "# d) [5, 1]\n"
   ]
  },
  {
   "cell_type": "code",
   "execution_count": 13,
   "id": "1449f476",
   "metadata": {},
   "outputs": [
    {
     "name": "stdout",
     "output_type": "stream",
     "text": [
      "24\n"
     ]
    }
   ],
   "source": [
    "# 13\n",
    "def my_function(y):\n",
    "    var = 1\n",
    "    while(y > 1):\n",
    "        # Your code here\n",
    "        var *= y\n",
    "        y -= 1\n",
    "    return var\n",
    "\n",
    "assert my_function(8) == 40320\n",
    "print(my_function(4))\n",
    "# a) 0\n",
    "# b) 20\n",
    "# c) 24\n",
    "# d) Raise an Error\n"
   ]
  },
  {
   "cell_type": "code",
   "execution_count": 14,
   "id": "08979b59",
   "metadata": {},
   "outputs": [
    {
     "name": "stdout",
     "output_type": "stream",
     "text": [
      "tocirpa\n"
     ]
    }
   ],
   "source": [
    "# 14\n",
    "def my_function(x):\n",
    "    # Your code here\n",
    "    return x[::-1]\n",
    "\n",
    "x = 'I can do it'\n",
    "assert my_function(x) == \"ti od nac I\"\n",
    "\n",
    "x = 'apricot'\n",
    "print(my_function(x))\n",
    "# a) apricot\n",
    "# b) tocirpa\n",
    "# c) Raise a Error\n",
    "# d) None\n"
   ]
  },
  {
   "cell_type": "code",
   "execution_count": 15,
   "id": "51711747",
   "metadata": {},
   "outputs": [
    {
     "name": "stdout",
     "output_type": "stream",
     "text": [
      "['T', 'T', 'T', 'N']\n"
     ]
    }
   ],
   "source": [
    "# 15\n",
    "def function_helper(x):\n",
    "    # Your code here\n",
    "    # Neu x>0 tra ve 'T', nguoc lai tra ve 'N'\n",
    "    return 'T' if x > 0 else 'N'\n",
    "\n",
    "def my_function(data):\n",
    "    res = [function_helper(x) for x in data]\n",
    "    return res\n",
    "\n",
    "data = [10, 0, -10, -1]\n",
    "assert my_function(data) == ['T', 'N', 'N', 'N']\n",
    "\n",
    "data = [2, 3, 5, -1]\n",
    "print(my_function(data))\n",
    "# a) ['N', 'T', 'T', 'N']\n",
    "# b) ['T', 'N', 'T', 'N']\n",
    "# c) ['T', 'T', 'T', 'N']\n",
    "# d) Raise an Error\n"
   ]
  },
  {
   "cell_type": "code",
   "execution_count": 16,
   "id": "00c55fee",
   "metadata": {},
   "outputs": [
    {
     "name": "stdout",
     "output_type": "stream",
     "text": [
      "[9, 8, 1]\n"
     ]
    }
   ],
   "source": [
    "# 16\n",
    "def function_helper(x, data):\n",
    "    for i in data:\n",
    "        # Your code here\n",
    "        # Neu x == i thi return 0\n",
    "        if x == i:\n",
    "            return 0\n",
    "    return 1\n",
    "\n",
    "def my_function(data):\n",
    "    res = []\n",
    "    for i in data:\n",
    "        if function_helper(i, res):\n",
    "            res.append(i)\n",
    "    return res\n",
    "\n",
    "lst = [10, 10, 9, 7, 7]\n",
    "assert my_function(lst) == [10, 9, 7]\n",
    "\n",
    "lst = [9, 9, 8, 1, 1]\n",
    "print(my_function(lst))\n",
    "# a) [9, 8, 1]\n",
    "# b) [1, 1, 1]\n",
    "# c) [9, 9, 8, 1, 1]\n",
    "# d) Raise an Error\n"
   ]
  }
 ],
 "metadata": {
  "kernelspec": {
   "display_name": "Artificial-Intelligence",
   "language": "python",
   "name": "python3"
  },
  "language_info": {
   "codemirror_mode": {
    "name": "ipython",
    "version": 3
   },
   "file_extension": ".py",
   "mimetype": "text/x-python",
   "name": "python",
   "nbconvert_exporter": "python",
   "pygments_lexer": "ipython3",
   "version": "3.11.9"
  }
 },
 "nbformat": 4,
 "nbformat_minor": 5
}
